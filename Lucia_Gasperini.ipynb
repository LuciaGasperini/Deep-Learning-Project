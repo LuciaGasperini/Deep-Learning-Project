{
  "metadata": {
    "accelerator": "GPU",
    "colab": {
      "provenance": []
    },
    "kernelspec": {
      "display_name": "Python 3",
      "language": "python",
      "name": "python3"
    },
    "language_info": {
      "codemirror_mode": {
        "name": "ipython",
        "version": 3
      },
      "file_extension": ".py",
      "mimetype": "text/x-python",
      "name": "python",
      "nbconvert_exporter": "python",
      "pygments_lexer": "ipython3",
      "version": "3.10.10"
    }
  },
  "nbformat_minor": 0,
  "nbformat": 4,
  "cells": [
    {
      "cell_type": "markdown",
      "source": [
        "# Next frame prediction\n",
        "\n",
        "Name and ID: Lucia Gasperini 0001092234"
      ],
      "metadata": {
        "id": "OIFPRLd0P3Yk"
      }
    },
    {
      "cell_type": "markdown",
      "source": [
        "\n",
        "\n",
        "# Description of the task\n",
        "The project consists of predicting the next frame in a short movie sequence.\n",
        "\n",
        "For this project, we shall use the Moving MNIST dataset, composed of 10,000 video sequences, each consisting of 20 frames. In each video sequence, two digits move independently around the frame, which has a spatial resolution of 64×64 pixels. The digits frequently intersect with each other and bounce off the edges of the frame.\n",
        "\n",
        "While each sequence has a lenght of 20, your are supposed to use **only 3 consecutive frames as input**, and **predict the next one**.\n",
        "\n",
        "The metric used to evaluate the quality of the predicted frame is Mean Squared Error."
      ],
      "metadata": {
        "id": "v85Qq_p0my49"
      }
    },
    {
      "cell_type": "markdown",
      "source": [
        "# Solution approach"
      ],
      "metadata": {
        "id": "azXJ8atGu0yB"
      }
    },
    {
      "cell_type": "markdown",
      "source": [
        "To compute a valid solution, I've decided to adopt a model which makes use of the ConvLSTM architecture (Convolutional Long Short-Term Memory) neural network model for processing spatiotemporal data."
      ],
      "metadata": {
        "id": "d2U1pOGEutY2"
      }
    },
    {
      "cell_type": "markdown",
      "source": [
        "# Importing relevant Libraries"
      ],
      "metadata": {
        "id": "Pv6OOLhU_14T"
      }
    },
    {
      "cell_type": "code",
      "source": [
        "# Import the required libraries\n",
        "import tensorflow as tf\n",
        "import tensorflow_datasets as tfds\n",
        "from tensorflow import keras\n",
        "from keras import layers\n",
        "\n",
        "import math\n",
        "import matplotlib.pyplot as plt\n",
        "import numpy as np"
      ],
      "metadata": {
        "id": "Wlg8ZSz3FHFh",
        "execution": {
          "iopub.status.busy": "2023-07-09T18:11:05.480120Z",
          "iopub.execute_input": "2023-07-09T18:11:05.480507Z",
          "iopub.status.idle": "2023-07-09T18:11:05.485715Z",
          "shell.execute_reply.started": "2023-07-09T18:11:05.480480Z",
          "shell.execute_reply": "2023-07-09T18:11:05.484509Z"
        },
        "trusted": true
      },
      "execution_count": null,
      "outputs": []
    },
    {
      "cell_type": "markdown",
      "source": [
        "# Data Construction"
      ],
      "metadata": {
        "id": "icwRHlmoBB7-"
      }
    },
    {
      "cell_type": "code",
      "source": [
        "# Load the Moving MNIST dataset\n",
        "ds = tfds.as_numpy(tfds.load(\n",
        "    'moving_mnist',\n",
        "    split='test',\n",
        "    batch_size=-1\n",
        "))\n",
        "sequences = ds['image_sequence']"
      ],
      "metadata": {
        "colab": {
          "base_uri": "https://localhost:8080/",
          "referenced_widgets": [
            "e7cd7d388bd74afb8ee71a1e0290f624",
            "04e3cf37aafd495d9297ed2240085bf0",
            ""
          ]
        },
        "id": "0nyzhFRDVuFw",
        "outputId": "3eeecc12-b110-4b5a-d4ff-e049c05a68d6",
        "execution": {
          "iopub.status.busy": "2023-07-09T18:11:08.401079Z",
          "iopub.execute_input": "2023-07-09T18:11:08.401449Z",
          "iopub.status.idle": "2023-07-09T18:13:44.629411Z",
          "shell.execute_reply.started": "2023-07-09T18:11:08.401420Z",
          "shell.execute_reply": "2023-07-09T18:13:44.628413Z"
        },
        "trusted": true
      },
      "execution_count": null,
      "outputs": [
        {
          "name": "stdout",
          "text": "\u001b[1mDownloading and preparing dataset Unknown size (download: Unknown size, generated: 91.70 MiB, total: 91.70 MiB) to /root/tensorflow_datasets/moving_mnist/1.0.0...\u001b[0m\n",
          "output_type": "stream"
        },
        {
          "output_type": "display_data",
          "data": {
            "text/plain": "Dl Completed...: 0 url [00:00, ? url/s]",
            "application/vnd.jupyter.widget-view+json": {
              "version_major": 2,
              "version_minor": 0,
              "model_id": "e7cd7d388bd74afb8ee71a1e0290f624"
            }
          },
          "metadata": {}
        },
        {
          "output_type": "display_data",
          "data": {
            "text/plain": "Dl Size...: 0 MiB [00:00, ? MiB/s]",
            "application/vnd.jupyter.widget-view+json": {
              "version_major": 2,
              "version_minor": 0,
              "model_id": "04e3cf37aafd495d9297ed2240085bf0"
            }
          },
          "metadata": {}
        },
        {
          "output_type": "display_data",
          "data": {
            "text/plain": "Generating splits...:   0%|          | 0/1 [00:00<?, ? splits/s]",
            "application/vnd.jupyter.widget-view+json": {
              "version_major": 2,
              "version_minor": 0,
              "model_id": ""
            }
          },
          "metadata": {}
        },
        {
          "output_type": "display_data",
          "data": {
            "text/plain": "Generating test examples...:   0%|          | 0/10000 [00:00<?, ? examples/s]",
            "application/vnd.jupyter.widget-view+json": {
              "version_major": 2,
              "version_minor": 0,
              "model_id": ""
            }
          },
          "metadata": {}
        },
        {
          "output_type": "display_data",
          "data": {
            "text/plain": "Shuffling /root/tensorflow_datasets/moving_mnist/1.0.0.incompleteYK8CGC/moving_mnist-test.tfrecord*...:   0%| …",
            "application/vnd.jupyter.widget-view+json": {
              "version_major": 2,
              "version_minor": 0,
              "model_id": ""
            }
          },
          "metadata": {}
        },
        {
          "name": "stdout",
          "text": "\u001b[1mDataset moving_mnist downloaded and prepared to /root/tensorflow_datasets/moving_mnist/1.0.0. Subsequent calls will reuse this data.\u001b[0m\n",
          "output_type": "stream"
        }
      ]
    },
    {
      "cell_type": "markdown",
      "source": [
        "The dataset is composed of 10000 sequences of 20 frames each. Each (grayscale) frame has dimension 64x64"
      ],
      "metadata": {
        "id": "JXFR88VToaSz"
      }
    },
    {
      "cell_type": "markdown",
      "source": [
        "In the PREPROCESSING I have removed the squeezing and the swapping of the axis because LSTM architecture needs the 5 dimension (for this reason I have also change the dimensions and the order of the parameters in the image_generator function)."
      ],
      "metadata": {
        "id": "mUQKHOJgkP2j"
      }
    },
    {
      "cell_type": "code",
      "source": [
        "# Swap the axes representing the number of frames and number of data samples\n",
        "#sequences = np.squeeze(np.swapaxes(sequences, 1, 4),axis=1)/255.\n",
        "\n",
        "sequences = sequences/255.\n",
        "print(sequences.shape)\n",
        "print(np.min(sequences),np.max(sequences))"
      ],
      "metadata": {
        "colab": {
          "base_uri": "https://localhost:8080/"
        },
        "id": "ZkS8Z9bXVxVG",
        "outputId": "90f734a8-0a4b-4f9b-9d70-1e72260a0f46",
        "execution": {
          "iopub.status.busy": "2023-07-09T18:13:44.631448Z",
          "iopub.execute_input": "2023-07-09T18:13:44.631787Z",
          "iopub.status.idle": "2023-07-09T18:13:48.925010Z",
          "shell.execute_reply.started": "2023-07-09T18:13:44.631754Z",
          "shell.execute_reply": "2023-07-09T18:13:48.924012Z"
        },
        "trusted": true
      },
      "execution_count": null,
      "outputs": [
        {
          "name": "stdout",
          "text": "(10000, 20, 64, 64, 1)\n0.0 1.0\n",
          "output_type": "stream"
        }
      ]
    },
    {
      "cell_type": "markdown",
      "source": [
        "Split the dataset in training, validation and testing."
      ],
      "metadata": {
        "id": "xEJxqJ0SotTn"
      }
    },
    {
      "cell_type": "code",
      "source": [
        "trainset = sequences[:8000]\n",
        "valset = sequences[8000:9000]\n",
        "testset = sequences[9000:10000]\n",
        "print(testset.shape, trainset.shape)"
      ],
      "metadata": {
        "colab": {
          "base_uri": "https://localhost:8080/"
        },
        "id": "CZSAjVd9bYhl",
        "outputId": "dc1a439b-76f5-40de-94d5-8fc005469b24",
        "execution": {
          "iopub.status.busy": "2023-07-09T18:13:48.926520Z",
          "iopub.execute_input": "2023-07-09T18:13:48.927527Z",
          "iopub.status.idle": "2023-07-09T18:13:48.934847Z",
          "shell.execute_reply.started": "2023-07-09T18:13:48.927490Z",
          "shell.execute_reply": "2023-07-09T18:13:48.933718Z"
        },
        "trusted": true
      },
      "execution_count": null,
      "outputs": [
        {
          "name": "stdout",
          "text": "(1000, 20, 64, 64, 1) (8000, 20, 64, 64, 1)\n",
          "output_type": "stream"
        }
      ]
    },
    {
      "cell_type": "markdown",
      "source": [
        "# Data Visualization\n"
      ],
      "metadata": {
        "id": "HywEAd2sE8yf"
      }
    },
    {
      "cell_type": "markdown",
      "source": [
        "Here is a simple generator, creating the input sequences of 3 frames, and the expected output, namely the next frame.\n",
        "\n",
        "Due to the changing in the preprocessing I have also changed the order of the values of batch_x and batch_y and I have added a fifth dimension."
      ],
      "metadata": {
        "id": "Ro84EIPjpCDW"
      }
    },
    {
      "cell_type": "code",
      "source": [
        "def image_generator(dataset,batchsize=16,seqlen=4):\n",
        "    while True:\n",
        "      # Initialize empty arrays for the batch inputs and targets\n",
        "      batch_x = np.zeros((batchsize,seqlen-1,64,64,1))\n",
        "      batch_y = np.zeros((batchsize,1,64,64,1))\n",
        "      ran = np.random.randint(dataset.shape[0],size=batchsize)\n",
        "\n",
        "      # Randomly select indices from the dataset\n",
        "      minibatch = dataset[ran]\n",
        "      #these sequences have length 20; we reduce them to seqlen\n",
        "\n",
        "      # Iterate over the selected batch indices\n",
        "      for i in range(batchsize):\n",
        "          # Randomly choose a start index for the sequence\n",
        "          random_start = np.random.randint(0,20-seqlen)\n",
        "          random_end = random_start+seqlen-1\n",
        "\n",
        "          # Fill the batch input and target arrays with the selected sequence\n",
        "          batch_x[i,:,:,:,0] = minibatch[i,random_start:random_end,:,:,0]\n",
        "          batch_y[i,:,:,:,0] = minibatch[i,random_end:random_end+1,:,:,0]\n",
        "\n",
        "      # Yield the batch inputs and targets\n",
        "      yield(batch_x,batch_y)"
      ],
      "metadata": {
        "id": "ZzzBAxNwKOGt",
        "execution": {
          "iopub.status.busy": "2023-07-09T21:06:25.666944Z",
          "iopub.execute_input": "2023-07-09T21:06:25.667392Z",
          "iopub.status.idle": "2023-07-09T21:06:25.677018Z",
          "shell.execute_reply.started": "2023-07-09T21:06:25.667357Z",
          "shell.execute_reply": "2023-07-09T21:06:25.675761Z"
        },
        "trusted": true
      },
      "execution_count": null,
      "outputs": []
    },
    {
      "cell_type": "code",
      "source": [
        "prova_gen = image_generator(testset,batchsize=1,seqlen=4)"
      ],
      "metadata": {
        "id": "1i9wGAY0fl1C",
        "execution": {
          "iopub.status.busy": "2023-07-09T21:06:30.427978Z",
          "iopub.execute_input": "2023-07-09T21:06:30.428553Z",
          "iopub.status.idle": "2023-07-09T21:06:30.433468Z",
          "shell.execute_reply.started": "2023-07-09T21:06:30.428523Z",
          "shell.execute_reply": "2023-07-09T21:06:30.432272Z"
        },
        "trusted": true
      },
      "execution_count": null,
      "outputs": []
    },
    {
      "cell_type": "code",
      "source": [
        "sample_x, sample_y = next(prova_gen)\n",
        "print(sample_x.shape, sample_y.shape)"
      ],
      "metadata": {
        "colab": {
          "base_uri": "https://localhost:8080/"
        },
        "id": "Y7n5_ZMvf1Xe",
        "outputId": "8ebdbf17-6735-40f3-ac01-738ceaad090c",
        "execution": {
          "iopub.status.busy": "2023-07-09T21:06:33.822169Z",
          "iopub.execute_input": "2023-07-09T21:06:33.822848Z",
          "iopub.status.idle": "2023-07-09T21:06:33.829090Z",
          "shell.execute_reply.started": "2023-07-09T21:06:33.822811Z",
          "shell.execute_reply": "2023-07-09T21:06:33.828113Z"
        },
        "trusted": true
      },
      "execution_count": null,
      "outputs": [
        {
          "name": "stdout",
          "text": "(1, 3, 64, 64, 1) (1, 1, 64, 64, 1)\n",
          "output_type": "stream"
        }
      ]
    },
    {
      "cell_type": "code",
      "source": [
        "print(type(sample_x))"
      ],
      "metadata": {
        "colab": {
          "base_uri": "https://localhost:8080/"
        },
        "id": "LAtcBioVkd89",
        "outputId": "cb6339de-12d7-4f16-aa2a-f02031a15c9d",
        "execution": {
          "iopub.status.busy": "2023-07-09T21:06:36.919087Z",
          "iopub.execute_input": "2023-07-09T21:06:36.919457Z",
          "iopub.status.idle": "2023-07-09T21:06:36.924743Z",
          "shell.execute_reply.started": "2023-07-09T21:06:36.919428Z",
          "shell.execute_reply": "2023-07-09T21:06:36.923552Z"
        },
        "trusted": true
      },
      "execution_count": null,
      "outputs": [
        {
          "name": "stdout",
          "text": "<class 'numpy.ndarray'>\n",
          "output_type": "stream"
        }
      ]
    },
    {
      "cell_type": "code",
      "source": [
        "def show_list(images): #takes in input a list of images and plot them\n",
        "    # Calculate the number of images in the list\n",
        "    size = len(images)\n",
        "\n",
        "    # Set the figure size based on the number of images\n",
        "    plt.figure(figsize=(10, 10 * size))\n",
        "\n",
        "    # Iterate over the images and plot them\n",
        "    for i in range(size):\n",
        "        plt.subplot(1, size, i + 1)\n",
        "        plt.imshow(images[i],cmap='gray',)\n",
        "\n",
        "    # Turn off the axis labels\n",
        "    plt.axis(\"off\")\n",
        "    # Adjust the spacing between subplots\n",
        "    plt.tight_layout()\n",
        "    # Display the plot\n",
        "    plt.show()\n",
        "    # Close the figure to release memory resources\n",
        "    plt.close()"
      ],
      "metadata": {
        "id": "l98wOX0vbvpu",
        "execution": {
          "iopub.status.busy": "2023-07-09T21:06:39.690221Z",
          "iopub.execute_input": "2023-07-09T21:06:39.690934Z",
          "iopub.status.idle": "2023-07-09T21:06:39.700028Z",
          "shell.execute_reply.started": "2023-07-09T21:06:39.690904Z",
          "shell.execute_reply": "2023-07-09T21:06:39.699064Z"
        },
        "trusted": true
      },
      "execution_count": null,
      "outputs": []
    },
    {
      "cell_type": "code",
      "source": [
        "all = [sample_x[0,i,:,:,0] for i in range(3)]+[sample_y[0,0,:,:,0]]\n",
        "show_list(all)"
      ],
      "metadata": {
        "colab": {
          "base_uri": "https://localhost:8080/",
          "height": 268
        },
        "id": "fxbKLeribyps",
        "outputId": "7c993284-6117-4000-8cec-a23f265c41f1",
        "execution": {
          "iopub.status.busy": "2023-07-09T21:06:44.031520Z",
          "iopub.execute_input": "2023-07-09T21:06:44.031877Z",
          "iopub.status.idle": "2023-07-09T21:06:44.608321Z",
          "shell.execute_reply.started": "2023-07-09T21:06:44.031850Z",
          "shell.execute_reply": "2023-07-09T21:06:44.607415Z"
        },
        "trusted": true
      },
      "execution_count": null,
      "outputs": [
        {
          "output_type": "display_data",
          "data": {
            "text/plain": "<Figure size 1000x4000 with 4 Axes>",
            "image/png": "[encoded data removed]"
          },
          "metadata": {}
        }
      ]
    },
    {
      "cell_type": "code",
      "source": [
        "train_gen = image_generator(trainset)\n",
        "val_gen = image_generator(valset)\n",
        "test_gen = image_generator(testset)"
      ],
      "metadata": {
        "id": "ZedwxykwK_8D",
        "execution": {
          "iopub.status.busy": "2023-07-09T21:06:48.468802Z",
          "iopub.execute_input": "2023-07-09T21:06:48.469156Z",
          "iopub.status.idle": "2023-07-09T21:06:48.475955Z",
          "shell.execute_reply.started": "2023-07-09T21:06:48.469127Z",
          "shell.execute_reply": "2023-07-09T21:06:48.474970Z"
        },
        "trusted": true
      },
      "execution_count": null,
      "outputs": []
    },
    {
      "cell_type": "code",
      "source": [
        "sample_x, sample_y = next(train_gen)"
      ],
      "metadata": {
        "id": "PXIoWhFvL6uK",
        "execution": {
          "iopub.status.busy": "2023-07-09T21:06:50.153250Z",
          "iopub.execute_input": "2023-07-09T21:06:50.153630Z",
          "iopub.status.idle": "2023-07-09T21:06:50.162418Z",
          "shell.execute_reply.started": "2023-07-09T21:06:50.153602Z",
          "shell.execute_reply": "2023-07-09T21:06:50.161262Z"
        },
        "trusted": true
      },
      "execution_count": null,
      "outputs": []
    },
    {
      "cell_type": "markdown",
      "source": [
        "# Model Construction\n",
        "\n",
        "LSTM (Long Short Term Memory) is a Recurrent Neural Network architecture. In this kind of architecture, the model passes the previous hidden state to the next step of the sequence. Therefore holding information on previous data the network has seen before and using it to make decisions. In other words, the data order is extremely important.\n",
        "In this case, with sequencial images, one approach is using ConvLSTM layers. It is a Recurrent layer, just like the LSTM, but internal matrix multiplications are exchanged with convolution operations.\n",
        "\n",
        "To build a Convolutional LSTM model, I will use the ConvLSTM2D layer, which will accept inputs of shape (batch_size, num_frames, width, height, channels), and return a prediction movie of the same shape."
      ],
      "metadata": {
        "id": "Qe3Ce-dbIV9x"
      }
    },
    {
      "cell_type": "code",
      "source": [
        "train_gen = image_generator(trainset)\n",
        "val_gen = image_generator(valset)\n",
        "test_gen = image_generator(testset)\n",
        "\n",
        "print(next(train_gen)[0].shape)"
      ],
      "metadata": {
        "colab": {
          "base_uri": "https://localhost:8080/"
        },
        "id": "ImkLoFztXUgi",
        "outputId": "fac46ee7-5f83-4261-baeb-9b3bc68f8e94",
        "execution": {
          "iopub.status.busy": "2023-07-09T21:06:53.508246Z",
          "iopub.execute_input": "2023-07-09T21:06:53.508642Z",
          "iopub.status.idle": "2023-07-09T21:06:53.518316Z",
          "shell.execute_reply.started": "2023-07-09T21:06:53.508612Z",
          "shell.execute_reply": "2023-07-09T21:06:53.517091Z"
        },
        "trusted": true
      },
      "execution_count": null,
      "outputs": [
        {
          "name": "stdout",
          "text": "(16, 3, 64, 64, 1)\n",
          "output_type": "stream"
        }
      ]
    },
    {
      "cell_type": "markdown",
      "source": [
        "The architecture I have decided to use consists of multiple `ConvLSTM2D` layers with batch normalization and a final `Conv3D` layer for spatiotemporal data processing. Each ConvLSTM2D layer processes spatiotemporal data and captures temporal dependencies between frames, while the batch normalization layers help with normalization and regularization (better convergence during training). I have decided, after sever trial to use four ConvLSTM2D layers applied successively with increasing complexity."
      ],
      "metadata": {
        "id": "R37mxS7qoDMf"
      }
    },
    {
      "cell_type": "code",
      "source": [
        "# Define the input shape\n",
        "input_shape = (None, 64, 64, 1)\n",
        "\n",
        "# Input layer\n",
        "inputs = layers.Input(shape=input_shape)\n",
        "\n",
        "# First ConvLSTM2D layer with batch normalization\n",
        "x = layers.ConvLSTM2D(\n",
        "    filters=64,\n",
        "    kernel_size=(7, 7),\n",
        "    padding=\"same\",\n",
        "    return_sequences=True,\n",
        "    activation=\"relu\"\n",
        ")(inputs)\n",
        "x = layers.BatchNormalization()(x)\n",
        "\n",
        "# Second ConvLSTM2D layer with batch normalization\n",
        "x = layers.ConvLSTM2D(\n",
        "    filters=64,\n",
        "    kernel_size=(5, 5),\n",
        "    padding=\"same\",\n",
        "    return_sequences=True,\n",
        "    activation=\"relu\"\n",
        ")(x)\n",
        "x = layers.BatchNormalization()(x)\n",
        "\n",
        "# Third ConvLSTM2D layer with batch normalization\n",
        "x = layers.ConvLSTM2D(\n",
        "    filters=64,\n",
        "    kernel_size=(3, 3),\n",
        "    padding=\"same\",\n",
        "    return_sequences=True,\n",
        "    activation=\"relu\"\n",
        ")(x)\n",
        "x = layers.BatchNormalization()(x)\n",
        "\n",
        "# Fourth ConvLSTM2D layer with batch normalization\n",
        "x = layers.ConvLSTM2D(\n",
        "    filters=64,\n",
        "    kernel_size=(3, 3),\n",
        "    padding=\"same\",\n",
        "    return_sequences=True,\n",
        "    activation=\"relu\"\n",
        ")(x)\n",
        "x = layers.BatchNormalization()(x)\n",
        "\n",
        "# Fifth ConvLSTM2D layer\n",
        "x = layers.ConvLSTM2D(\n",
        "    filters=64,\n",
        "    kernel_size=(1, 1),\n",
        "    padding=\"same\",\n",
        "    return_sequences=True,\n",
        "    activation=\"relu\"\n",
        ")(x)\n",
        "\n",
        "# Conv3D layer for spatiotemporal outputs\n",
        "x = layers.Conv3D(\n",
        "    filters=1,\n",
        "    kernel_size=(3, 3, 3),\n",
        "    activation=\"sigmoid\",\n",
        "    padding=\"same\"\n",
        ")(x)\n",
        "\n",
        "# Lambda layer to select the last frame of each sequence\n",
        "x = layers.Lambda(lambda x: x[:, -1, :, :, :])(x)\n",
        "\n",
        "# Reshape layer to adjust the shape of the tensor\n",
        "output = layers.Reshape((1, 64, 64, 1))(x)\n",
        "\n",
        "# Create the model\n",
        "model = keras.models.Model(inputs=inputs, outputs=output)"
      ],
      "metadata": {
        "id": "GpzDzipQRgG6",
        "execution": {
          "iopub.status.busy": "2023-07-09T21:06:57.779744Z",
          "iopub.execute_input": "2023-07-09T21:06:57.780805Z",
          "iopub.status.idle": "2023-07-09T21:06:58.522225Z",
          "shell.execute_reply.started": "2023-07-09T21:06:57.780760Z",
          "shell.execute_reply": "2023-07-09T21:06:58.521306Z"
        },
        "trusted": true
      },
      "execution_count": null,
      "outputs": []
    },
    {
      "cell_type": "markdown",
      "source": [
        "\n",
        "As kernel size for first layer I tried both 7x7 and 9x9, before the 5x5. The best result was obtained with 7x7, since, a 9x9 kernel has a larger convolution window (it can capture larger spatial features in the input data) than a 7x7 kernel (it may allow to capture finer details in the images). Each additional layer allows the model to learn and extract higher-level features from the input. I have tried this model with several combination of the kernel size (some combination are listed in the last section of this notebook).\n",
        "\n",
        "The model I have decided to use consists of several layers:\n",
        "- The input shape is defined as (None, 64, 64, 1), indicating a variable-length sequence of 2D images with a size of 64x64 pixels and a single channel. The input layer is created using the defined input shape.\n",
        "\n",
        "- The first layer is a ConvLSTM2D\n",
        "layer with 64 filters, a kernel size of (7, 7), and \"same\" padding (to keep the output size the same as the input). It returns sequences True, meaning it preserves the temporal dimension (to return the output for each time step in the sequence). The activation function is ReLU. It takes input with shape (None, 64, 64, 1), where None represents a variable-length sequence of 2D images with a size of 64x64 and a single channel (grayscale).\n",
        "\n",
        "- After the ConvLSTM2D layer, there is a BatchNormalization layer. It normalizes the activations of the previous layer along the batch dimension. It helps mitigate covariate shift issues and speeds up model training.\n",
        "\n",
        "- The second layer is another ConvLSTM2D layer with 64 filters, a kernel size of (5, 5), and \"same\" padding. It also returns sequences and uses the ReLU activation function.\n",
        "\n",
        "- Another BatchNormalization layer follows the second ConvLSTM2D layer.\n",
        "\n",
        "- The third ConvLSTM2D layer also follows a similar structure, but with a smaller 3x3 kernel size.\n",
        "\n",
        "- Another BatchNormalization layer follows the Third ConvLSTM2D layer.\n",
        "\n",
        "- The fourth ConvLSTM2D layer is another 3x3 kernel size. The addition of an additional 3x3 layer in this network aims to introduce another convolution operation to extract more complex features and further refine the data representation. In the specified network, the ConvLSTM2D layers are used to model spatiotemporal relationships within the input data. Each ConvLSTM2D layer uses a specific-sized kernel to perform spatial and temporal convolution operations on the input data. Adding an additional 3x3 layer allows the network to perform another convolution operation to further refine the representation of the features extracted by the previous layers, improving the network's ability to capture meaningful information in the input data and enhance the overall performance of the model. The early layers tend to extract basic features such as edges and lines, while the subsequent layers combine these basic features to recognize more complex shapes and spatiotemporal structures.\n",
        "\n",
        "- Another BatchNormalization layer follows the fourth ConvLSTM2D layer.\n",
        "\n",
        "- The fifth layer is a ConvLSTM2D layer similar to the previous one but with a kernel size of (1, 1), which means it operates on a single frame in the sequence and acts as a spatial attention mechanism. This layer helps refine the features learned by previous layers.\n",
        "\n",
        "- Finally, there is a Conv3D layer (used for spatiotemporal outputs)with a kernel size of (3, 3, 3). It has a single filter and uses the sigmoid activation function. The Conv3D layer performs three-dimensional convolution on its input. It applies a set of filters to a 3D input volume, which can be thought of as a sequence of 2D images over time. The purpose of this layer is to extract spatiotemporal features from the input data.\n",
        "\n",
        "- A Lambda layer is added to extract the final frame of the sequence. It selects the last frame along the time dimension. The lambda function x[:,-1,:,:,:] selects the last frame along the time dimension, discarding earlier frames.\n",
        "\n",
        "- A Reshape layer is added to change the shape of the output tensor to (1, 64, 64, 1). This reshaping might be necessary depending on the requirements of the subsequent layers or the desired output shape.\n",
        "\n",
        "- In the end, a model is created with the defined inputs and outputs using the Model class from Keras.\n",
        "\n",
        "Without the Lambda and the reshape layer I have obtained an higher MSE because the first two frame generated by the Conv3D are not so good and make the result worse.\n",
        "\n",
        "These layers together form the model architecture that processes spatiotemporal data using ConvLSTM and Conv3D layers, selecting the last frame of each sequence and adjusting the tensor shape as needed. The model takes 5D input with shape (batch_size, timesteps, width, height, channels) and produces a 5D output with shape (batch_size, timesteps, height, width, 1)."
      ],
      "metadata": {
        "id": "8RI8Z6ITpIhq"
      }
    },
    {
      "cell_type": "code",
      "source": [
        "model.summary()"
      ],
      "metadata": {
        "colab": {
          "base_uri": "https://localhost:8080/"
        },
        "id": "abENAXntYkaI",
        "outputId": "a34f7361-a849-4990-c7ec-76a801e407a8",
        "execution": {
          "iopub.status.busy": "2023-07-09T18:13:50.572909Z",
          "iopub.execute_input": "2023-07-09T18:13:50.573620Z",
          "iopub.status.idle": "2023-07-09T18:13:50.612597Z",
          "shell.execute_reply.started": "2023-07-09T18:13:50.573588Z",
          "shell.execute_reply": "2023-07-09T18:13:50.611870Z"
        },
        "trusted": true
      },
      "execution_count": null,
      "outputs": [
        {
          "name": "stdout",
          "text": "Model: \"model\"\n_________________________________________________________________\n Layer (type)                Output Shape              Param #   \n=================================================================\n input_1 (InputLayer)        [(None, None, 64, 64, 1)  0         \n                             ]                                   \n                                                                 \n conv_lstm2d (ConvLSTM2D)    (None, None, 64, 64, 64)  815616    \n                                                                 \n batch_normalization (BatchN  (None, None, 64, 64, 64)  256      \n ormalization)                                                   \n                                                                 \n conv_lstm2d_1 (ConvLSTM2D)  (None, None, 64, 64, 64)  819456    \n                                                                 \n batch_normalization_1 (Batc  (None, None, 64, 64, 64)  256      \n hNormalization)                                                 \n                                                                 \n conv_lstm2d_2 (ConvLSTM2D)  (None, None, 64, 64, 64)  295168    \n                                                                 \n batch_normalization_2 (Batc  (None, None, 64, 64, 64)  256      \n hNormalization)                                                 \n                                                                 \n conv_lstm2d_3 (ConvLSTM2D)  (None, None, 64, 64, 64)  295168    \n                                                                 \n batch_normalization_3 (Batc  (None, None, 64, 64, 64)  256      \n hNormalization)                                                 \n                                                                 \n conv_lstm2d_4 (ConvLSTM2D)  (None, None, 64, 64, 64)  33024     \n                                                                 \n conv3d (Conv3D)             (None, None, 64, 64, 1)   1729      \n                                                                 \n lambda (Lambda)             (None, 64, 64, 1)         0         \n                                                                 \n reshape (Reshape)           (None, 1, 64, 64, 1)      0         \n                                                                 \n=================================================================\nTotal params: 2,261,185\nTrainable params: 2,260,673\nNon-trainable params: 512\n_________________________________________________________________\n",
          "output_type": "stream"
        }
      ]
    },
    {
      "cell_type": "code",
      "source": [
        "# Compile the model\n",
        "model.compile(\n",
        "    loss=keras.losses.binary_crossentropy, # Binary cross-entropy loss function\n",
        "    optimizer=keras.optimizers.Adam(), # Adam optimizer\n",
        "    metrics=[keras.metrics.MeanSquaredError()] # Mean Squared Error metric\n",
        ")"
      ],
      "metadata": {
        "id": "pkv6ZS5XJtWY",
        "execution": {
          "iopub.status.busy": "2023-07-09T21:07:11.823462Z",
          "iopub.execute_input": "2023-07-09T21:07:11.823832Z",
          "iopub.status.idle": "2023-07-09T21:07:11.841313Z",
          "shell.execute_reply.started": "2023-07-09T21:07:11.823802Z",
          "shell.execute_reply": "2023-07-09T21:07:11.840347Z"
        },
        "trusted": true
      },
      "execution_count": null,
      "outputs": []
    },
    {
      "cell_type": "markdown",
      "source": [
        "The code written above compiles the defined model by configuring its loss function (I have used the Binary Crossentropy), optimizer, and evaluation metrics. Once the model is compiled, it is ready for training using the fit() function with the specified loss, optimizer, and metrics settings."
      ],
      "metadata": {
        "id": "V8cvQz6lwzxz"
      }
    },
    {
      "cell_type": "markdown",
      "source": [
        "# Model Training\n",
        "\n",
        "With the model and data constructed, I can now train the model."
      ],
      "metadata": {
        "id": "4jKjZjsWJxYY"
      }
    },
    {
      "cell_type": "code",
      "source": [
        "# Define modifiable training hyperparameters\n",
        "epochs = 60 # Number of training epochs\n",
        "batch_size = 16 # Batch size for training"
      ],
      "metadata": {
        "id": "X5ycHyPGPiDJ",
        "execution": {
          "iopub.status.busy": "2023-07-09T21:20:15.609867Z",
          "iopub.execute_input": "2023-07-09T21:20:15.610229Z",
          "iopub.status.idle": "2023-07-09T21:20:15.614680Z",
          "shell.execute_reply.started": "2023-07-09T21:20:15.610200Z",
          "shell.execute_reply": "2023-07-09T21:20:15.613680Z"
        },
        "trusted": true
      },
      "execution_count": null,
      "outputs": []
    },
    {
      "cell_type": "markdown",
      "source": [
        "I have opted for a batch size of size 16 because, after some attemps, I have noticed that in this way I have a good generalization (a batch size allows the model to see more diverse examples in each training iteration and increased  the diversity can help the model generalize better by learning from a wider range of samples within each batch)."
      ],
      "metadata": {
        "id": "rIxjDN1wnogK"
      }
    },
    {
      "cell_type": "markdown",
      "source": [
        "After several attempts I decided to use 60 epochs (due to early stopping they are often carried out between 45 and 55 epochs since the values tend to stabilize) as it turns out to be a good compromise between efficiency and a good result. The number of epochs is sufficient to allow the model to converge to a stable and optimal solution, further training not provide significant benefits (there is minimal improvement (changes only in the third and fourth digits after the decimal point)) and could lead to overfitting (if the model starts to overfit, where the training performance continues to improve while the validation performance plateaus or starts to degrade (indication that the model has learned too much from the training data and is not generalizing well))."
      ],
      "metadata": {
        "id": "3f-r_zNMRicJ"
      }
    },
    {
      "cell_type": "code",
      "source": [
        "# Define some callbacks to improve training.\n",
        "early_stopping = keras.callbacks.EarlyStopping(monitor=\"val_mean_squared_error\", patience=10)\n",
        "reduce_lr = keras.callbacks.ReduceLROnPlateau(monitor=\"val_mean_squared_error\", patience=5)"
      ],
      "metadata": {
        "id": "qc9hji2GylPa",
        "execution": {
          "iopub.status.busy": "2023-07-09T21:07:23.686514Z",
          "iopub.execute_input": "2023-07-09T21:07:23.687190Z",
          "iopub.status.idle": "2023-07-09T21:07:23.693543Z",
          "shell.execute_reply.started": "2023-07-09T21:07:23.687158Z",
          "shell.execute_reply": "2023-07-09T21:07:23.692344Z"
        },
        "trusted": true
      },
      "execution_count": null,
      "outputs": []
    },
    {
      "cell_type": "markdown",
      "source": [
        "- *early_stopping*: This line creates an EarlyStopping callback. The EarlyStopping callback monitors the val_mean_squared_error during training and stops the training process if the validation loss does not improve for a certain number of epochs specified by the patience parameter. In this case, the training will be stopped if the validation loss does not improve for 10 consecutive epochs.\n",
        "\n",
        "- *reduce_lr*: This line creates a ReduceLROnPlateau callback. The ReduceLROnPlateau callback reduces the learning rate (lr) of the optimizer when the validation loss does not improve for a certain number of epochs specified by the patience parameter. Reducing the learning rate can help the model to converge to a better solution. In this case, the learning rate will be reduced if the validation loss does not improve for 5 consecutive epochs."
      ],
      "metadata": {
        "id": "L6rmLp6Hymrk"
      }
    },
    {
      "cell_type": "markdown",
      "source": [
        "The model.fit() function starts the training process with the specified parameters, including the data generators, number of epochs, batch size, and callbacks. During training, the model will iterate over the training data, compute gradients, update the model's parameters, and evaluate the performance on the validation data."
      ],
      "metadata": {
        "id": "037d-APJzkLH"
      }
    },
    {
      "cell_type": "code",
      "source": [
        "# Fit the model to the training data.\n",
        "model.fit(\n",
        "    x=train_gen, # Training data generator\n",
        "    steps_per_epoch=len(trainset) // batch_size, # Number of steps (batches) per epoch\n",
        "    epochs=epochs, # Number of training epochs\n",
        "    validation_data=val_gen, # Validation data generator\n",
        "    validation_steps=len(valset) // batch_size, # Number of validation steps (batches)\n",
        "    callbacks=[early_stopping, reduce_lr], # List of callbacks to be used during training\n",
        ")"
      ],
      "metadata": {
        "execution": {
          "iopub.status.busy": "2023-07-09T18:13:50.667041Z",
          "iopub.execute_input": "2023-07-09T18:13:50.667954Z",
          "iopub.status.idle": "2023-07-09T20:57:08.954253Z",
          "shell.execute_reply.started": "2023-07-09T18:13:50.667923Z",
          "shell.execute_reply": "2023-07-09T20:57:08.953213Z"
        },
        "trusted": true,
        "id": "hDesNzc1tJLG",
        "outputId": "c3f82cbc-b310-47b9-da2c-1d575386fa4e"
      },
      "execution_count": null,
      "outputs": [
        {
          "name": "stdout",
          "text": "Epoch 1/60\n500/500 [==============================] - 245s 445ms/step - loss: 0.0813 - mean_squared_error: 0.0193 - val_loss: 0.2122 - val_mean_squared_error: 0.0323 - lr: 0.0010\nEpoch 2/60\n500/500 [==============================] - 222s 445ms/step - loss: 0.0665 - mean_squared_error: 0.0144 - val_loss: 0.0660 - val_mean_squared_error: 0.0141 - lr: 0.0010\nEpoch 3/60\n500/500 [==============================] - 222s 444ms/step - loss: 0.0627 - mean_squared_error: 0.0130 - val_loss: 0.0624 - val_mean_squared_error: 0.0128 - lr: 0.0010\nEpoch 4/60\n500/500 [==============================] - 222s 445ms/step - loss: 0.0613 - mean_squared_error: 0.0125 - val_loss: 0.0661 - val_mean_squared_error: 0.0144 - lr: 0.0010\nEpoch 5/60\n500/500 [==============================] - 222s 443ms/step - loss: 0.0603 - mean_squared_error: 0.0122 - val_loss: 0.0607 - val_mean_squared_error: 0.0122 - lr: 0.0010\nEpoch 6/60\n500/500 [==============================] - 222s 445ms/step - loss: 0.0586 - mean_squared_error: 0.0117 - val_loss: 0.0615 - val_mean_squared_error: 0.0125 - lr: 0.0010\nEpoch 7/60\n500/500 [==============================] - 222s 445ms/step - loss: 0.0586 - mean_squared_error: 0.0116 - val_loss: 0.0592 - val_mean_squared_error: 0.0117 - lr: 0.0010\nEpoch 8/60\n500/500 [==============================] - 222s 445ms/step - loss: 0.0584 - mean_squared_error: 0.0116 - val_loss: 0.0594 - val_mean_squared_error: 0.0119 - lr: 0.0010\nEpoch 9/60\n500/500 [==============================] - 222s 445ms/step - loss: 0.0577 - mean_squared_error: 0.0113 - val_loss: 0.0582 - val_mean_squared_error: 0.0115 - lr: 0.0010\nEpoch 10/60\n500/500 [==============================] - 222s 445ms/step - loss: 0.0572 - mean_squared_error: 0.0111 - val_loss: 0.0582 - val_mean_squared_error: 0.0113 - lr: 0.0010\nEpoch 11/60\n500/500 [==============================] - 222s 444ms/step - loss: 0.0572 - mean_squared_error: 0.0112 - val_loss: 0.0585 - val_mean_squared_error: 0.0115 - lr: 0.0010\nEpoch 12/60\n500/500 [==============================] - 222s 443ms/step - loss: 0.0568 - mean_squared_error: 0.0110 - val_loss: 0.0566 - val_mean_squared_error: 0.0110 - lr: 0.0010\nEpoch 13/60\n500/500 [==============================] - 222s 445ms/step - loss: 0.0562 - mean_squared_error: 0.0108 - val_loss: 0.0564 - val_mean_squared_error: 0.0108 - lr: 0.0010\nEpoch 14/60\n500/500 [==============================] - 221s 443ms/step - loss: 0.0554 - mean_squared_error: 0.0106 - val_loss: 0.0566 - val_mean_squared_error: 0.0109 - lr: 0.0010\nEpoch 15/60\n500/500 [==============================] - 222s 443ms/step - loss: 0.0559 - mean_squared_error: 0.0108 - val_loss: 0.0565 - val_mean_squared_error: 0.0109 - lr: 0.0010\nEpoch 16/60\n500/500 [==============================] - 222s 445ms/step - loss: 0.0555 - mean_squared_error: 0.0106 - val_loss: 0.0556 - val_mean_squared_error: 0.0106 - lr: 0.0010\nEpoch 17/60\n500/500 [==============================] - 223s 445ms/step - loss: 0.0552 - mean_squared_error: 0.0105 - val_loss: 0.0557 - val_mean_squared_error: 0.0106 - lr: 0.0010\nEpoch 18/60\n500/500 [==============================] - 222s 444ms/step - loss: 0.0553 - mean_squared_error: 0.0105 - val_loss: 0.0569 - val_mean_squared_error: 0.0110 - lr: 0.0010\nEpoch 19/60\n500/500 [==============================] - 221s 443ms/step - loss: 0.0549 - mean_squared_error: 0.0104 - val_loss: 0.0551 - val_mean_squared_error: 0.0104 - lr: 0.0010\nEpoch 20/60\n500/500 [==============================] - 222s 444ms/step - loss: 0.0551 - mean_squared_error: 0.0104 - val_loss: 0.0550 - val_mean_squared_error: 0.0104 - lr: 0.0010\nEpoch 21/60\n500/500 [==============================] - 222s 443ms/step - loss: 0.0546 - mean_squared_error: 0.0103 - val_loss: 0.0557 - val_mean_squared_error: 0.0106 - lr: 0.0010\nEpoch 22/60\n500/500 [==============================] - 222s 443ms/step - loss: 0.0545 - mean_squared_error: 0.0102 - val_loss: 0.0547 - val_mean_squared_error: 0.0103 - lr: 0.0010\nEpoch 23/60\n500/500 [==============================] - 222s 445ms/step - loss: 0.0541 - mean_squared_error: 0.0102 - val_loss: 0.0558 - val_mean_squared_error: 0.0107 - lr: 0.0010\nEpoch 24/60\n500/500 [==============================] - 222s 444ms/step - loss: 0.0541 - mean_squared_error: 0.0101 - val_loss: 0.0544 - val_mean_squared_error: 0.0101 - lr: 0.0010\nEpoch 25/60\n500/500 [==============================] - 222s 444ms/step - loss: 0.0542 - mean_squared_error: 0.0102 - val_loss: 0.0554 - val_mean_squared_error: 0.0105 - lr: 0.0010\nEpoch 26/60\n500/500 [==============================] - 222s 444ms/step - loss: 0.0535 - mean_squared_error: 0.0100 - val_loss: 0.0549 - val_mean_squared_error: 0.0103 - lr: 0.0010\nEpoch 27/60\n500/500 [==============================] - 222s 444ms/step - loss: 0.0535 - mean_squared_error: 0.0099 - val_loss: 0.0555 - val_mean_squared_error: 0.0105 - lr: 0.0010\nEpoch 28/60\n500/500 [==============================] - 222s 444ms/step - loss: 0.0535 - mean_squared_error: 0.0099 - val_loss: 0.0552 - val_mean_squared_error: 0.0104 - lr: 0.0010\nEpoch 29/60\n500/500 [==============================] - 223s 446ms/step - loss: 0.0539 - mean_squared_error: 0.0101 - val_loss: 0.0539 - val_mean_squared_error: 0.0101 - lr: 0.0010\nEpoch 30/60\n500/500 [==============================] - 222s 444ms/step - loss: 0.0524 - mean_squared_error: 0.0096 - val_loss: 0.0528 - val_mean_squared_error: 0.0098 - lr: 1.0000e-04\nEpoch 31/60\n500/500 [==============================] - 222s 444ms/step - loss: 0.0522 - mean_squared_error: 0.0095 - val_loss: 0.0522 - val_mean_squared_error: 0.0095 - lr: 1.0000e-04\nEpoch 32/60\n500/500 [==============================] - 222s 444ms/step - loss: 0.0522 - mean_squared_error: 0.0095 - val_loss: 0.0529 - val_mean_squared_error: 0.0097 - lr: 1.0000e-04\nEpoch 33/60\n500/500 [==============================] - 223s 445ms/step - loss: 0.0517 - mean_squared_error: 0.0094 - val_loss: 0.0535 - val_mean_squared_error: 0.0098 - lr: 1.0000e-04\nEpoch 34/60\n500/500 [==============================] - 223s 445ms/step - loss: 0.0522 - mean_squared_error: 0.0096 - val_loss: 0.0521 - val_mean_squared_error: 0.0094 - lr: 1.0000e-04\nEpoch 35/60\n500/500 [==============================] - 222s 444ms/step - loss: 0.0519 - mean_squared_error: 0.0094 - val_loss: 0.0530 - val_mean_squared_error: 0.0097 - lr: 1.0000e-04\nEpoch 36/60\n500/500 [==============================] - 222s 444ms/step - loss: 0.0518 - mean_squared_error: 0.0094 - val_loss: 0.0524 - val_mean_squared_error: 0.0096 - lr: 1.0000e-04\nEpoch 37/60\n500/500 [==============================] - 222s 444ms/step - loss: 0.0518 - mean_squared_error: 0.0094 - val_loss: 0.0521 - val_mean_squared_error: 0.0094 - lr: 1.0000e-05\nEpoch 38/60\n500/500 [==============================] - 222s 444ms/step - loss: 0.0515 - mean_squared_error: 0.0093 - val_loss: 0.0534 - val_mean_squared_error: 0.0097 - lr: 1.0000e-05\nEpoch 39/60\n500/500 [==============================] - 222s 445ms/step - loss: 0.0515 - mean_squared_error: 0.0093 - val_loss: 0.0529 - val_mean_squared_error: 0.0097 - lr: 1.0000e-05\nEpoch 40/60\n500/500 [==============================] - 223s 445ms/step - loss: 0.0511 - mean_squared_error: 0.0092 - val_loss: 0.0521 - val_mean_squared_error: 0.0094 - lr: 1.0000e-05\nEpoch 41/60\n500/500 [==============================] - 223s 446ms/step - loss: 0.0516 - mean_squared_error: 0.0093 - val_loss: 0.0526 - val_mean_squared_error: 0.0096 - lr: 1.0000e-05\nEpoch 42/60\n500/500 [==============================] - 223s 446ms/step - loss: 0.0517 - mean_squared_error: 0.0093 - val_loss: 0.0531 - val_mean_squared_error: 0.0097 - lr: 1.0000e-06\nEpoch 43/60\n500/500 [==============================] - 223s 445ms/step - loss: 0.0515 - mean_squared_error: 0.0093 - val_loss: 0.0521 - val_mean_squared_error: 0.0094 - lr: 1.0000e-06\nEpoch 44/60\n500/500 [==============================] - 222s 444ms/step - loss: 0.0514 - mean_squared_error: 0.0093 - val_loss: 0.0525 - val_mean_squared_error: 0.0096 - lr: 1.0000e-06\n",
          "output_type": "stream"
        },
        {
          "execution_count": 21,
          "output_type": "execute_result",
          "data": {
            "text/plain": "<keras.callbacks.History at 0x7b25fdc8f160>"
          },
          "metadata": {}
        }
      ]
    },
    {
      "cell_type": "markdown",
      "source": [
        "# Evaluate the model on the test set"
      ],
      "metadata": {
        "id": "GF5YTvnD3gKJ"
      }
    },
    {
      "cell_type": "code",
      "source": [
        "# Evaluate the model on the test set\n",
        "test_gen_loss = model.evaluate(test_gen, steps=len(testset) // batch_size)\n",
        "print(\"Mean Squared Error on the test set:\", test_gen_loss)"
      ],
      "metadata": {
        "execution": {
          "iopub.status.busy": "2023-07-09T21:55:09.039752Z",
          "iopub.execute_input": "2023-07-09T21:55:09.040118Z",
          "iopub.status.idle": "2023-07-09T21:55:19.321224Z",
          "shell.execute_reply.started": "2023-07-09T21:55:09.040088Z",
          "shell.execute_reply": "2023-07-09T21:55:19.318433Z"
        },
        "trusted": true,
        "id": "12iIBjzqtJLL",
        "outputId": "24a23789-fcd0-44fd-fb26-b3be7ea21ade"
      },
      "execution_count": null,
      "outputs": [
        {
          "name": "stdout",
          "text": "62/62 [==============================] - 10s 157ms/step - loss: 0.0406 - mean_squared_error: 0.0089\nMean Squared Error on the test set: [0.04060353711247444, 0.00888848677277565]\n",
          "output_type": "stream"
        }
      ]
    },
    {
      "cell_type": "markdown",
      "source": [
        "I chose to use this model because it generated a lower Mean Squared Error (under 0.01), a good predicted image (the result is optimal only in the case of overlapping numbers) and, compared to other models I tested it is a good compromise between execution time (related to the number of parameters used), predicted image quality and mean squared error. It takes less time and has a reduced number of total parameters thus reducing the overall cost of the network."
      ],
      "metadata": {
        "id": "z6X3O-KMeLs_"
      }
    },
    {
      "cell_type": "markdown",
      "source": [
        "# Predicted Output"
      ],
      "metadata": {
        "id": "ru6I0E-f3Us3"
      }
    },
    {
      "cell_type": "code",
      "source": [
        "# Generate a sample batch of test data\n",
        "sample_x,sample_y=next(test_gen)\n",
        "\n",
        "# Make predictions using the trained model\n",
        "new_prediction=model.predict(sample_x)\n",
        "\n",
        "# Print the shape of the new predictions\n",
        "print(new_prediction.shape)\n",
        "\n",
        "# Prepare a list of images for visualization\n",
        "all = [sample_x[0,i,:,:,:] for i in range(3)]+[sample_y[0,0,:,:,0]]\n",
        "\n",
        "# Display the list of images using the show_list function\n",
        "show_list(all)\n",
        "\n",
        "# Prepare a new list of images with the predicted output\n",
        "all = [sample_x[0,i,:,:,:] for i in range(3)]+[new_prediction[0,0,:,:,0]]\n",
        "\n",
        "# Display the list of images with the predicted output\n",
        "show_list(all)"
      ],
      "metadata": {
        "id": "I3MgP84rjLdO",
        "execution": {
          "iopub.status.busy": "2023-07-09T20:58:16.791235Z",
          "iopub.execute_input": "2023-07-09T20:58:16.792253Z",
          "iopub.status.idle": "2023-07-09T20:58:18.138591Z",
          "shell.execute_reply.started": "2023-07-09T20:58:16.792211Z",
          "shell.execute_reply": "2023-07-09T20:58:18.137646Z"
        },
        "trusted": true,
        "outputId": "dbdce8d1-7254-4349-f685-9d386ab8aa6e"
      },
      "execution_count": null,
      "outputs": [
        {
          "name": "stdout",
          "text": "1/1 [==============================] - 0s 31ms/step\n(16, 1, 64, 64, 1)\n",
          "output_type": "stream"
        },
        {
          "output_type": "display_data",
          "data": {
            "text/plain": "<Figure size 1000x4000 with 4 Axes>",
            "image/png": "[encoded data removed]"
          },
          "metadata": {}
        },
        {
          "output_type": "display_data",
          "data": {
            "text/plain": "<Figure size 1000x4000 with 4 Axes>",
            "image/png": "[encoded data removed]"
          },
          "metadata": {}
        }
      ]
    },
    {
      "cell_type": "markdown",
      "source": [
        "# Some previous attempts"
      ],
      "metadata": {
        "id": "UtT45AfOuKmP"
      }
    },
    {
      "cell_type": "markdown",
      "source": [
        "- I tried to stack a combination of Conv2D and LSTM layers. The Conv2D layers capture spatial information from the input frames, while the LSTM layer captures the temporal dependencies between frames. The final Conv2D layer with a sigmoid activation is used to generate the predicted frame. But in this situation I have obtained an higher value of the mean squared error.\n",
        "\n",
        "- I tried to change the number of batch_size but I have obtained a worst result\n",
        "\n",
        "- I have tried to implement the Convolutional LSTM model in a sequential way.\n",
        "The result provided by this architecture was similar to the one of that I have decided to use. The code defines the architecture of a model using the Keras Sequential API that allows to stack layers sequentially, making it easy to build models layer by layer. The Sequential model is used to stack these layers in the specified order to create the desired model architecture. Adding multiple layers in the model can potentially help in capturing more complex patterns and representations in the data. Each additional layer allows the model to learn and extract higher-level features from the input. I have tried this model with several combination of the kernel size.\n",
        "> I also performed all the attempts described below with the chosen functional model, I don't report all the codes because it would be unnecessarily verbose (they change only by the number of layers).\n",
        ">> For example I have tried a 9x9 before the 7x7 (very high computational cost given by the large number of parameters used (over 4 million parameters), but without major improvements in the value of the mean square error), a 9x9 before the 5x5 without the 7x7 (In this case I have obtained a good mean square error, almost equal to the one of the model I have considered but with an higher computational cost due to the higher number of parameters (2,793,665 respect to the 2,261,185 of the 7x7 model)), another 3x3 after the 5x5 (with and without the 7x7 layer). In the model with the two ConvLSTM2D layers with a kernel size of 3x3 (without the 7x7 layer) in the code serve to process the data sequences in more detail and capture finer spatial features (I have obtainded a good MSE on the test set (little bit higher\n",
        "(never under 0.01 MSE with 40 epochs) that the one of the model I have considerd)."
      ],
      "metadata": {
        "id": "7pnFSTv0OpCP"
      }
    },
    {
      "cell_type": "code",
      "source": [
        "# Define the model architecture\n",
        "\n",
        "# Constructing the model using a Sequential API\n",
        "model1 = keras.Sequential([\n",
        "    # First ConvLSTM2D layer with batch normalization\n",
        "    layers.ConvLSTM2D(\n",
        "        filters=64,\n",
        "        kernel_size=(7, 7),\n",
        "        padding=\"same\",\n",
        "        return_sequences=True,\n",
        "        activation=\"relu\",\n",
        "        input_shape=(None, 64, 64, 1)\n",
        "    ),\n",
        "    layers.BatchNormalization(),\n",
        "\n",
        "    # Second ConvLSTM2D layer with batch normalization\n",
        "    layers.ConvLSTM2D(\n",
        "      filters=64,\n",
        "      kernel_size=(5, 5),\n",
        "      padding=\"same\",\n",
        "      return_sequences=True,\n",
        "      activation=\"relu\",\n",
        "    ),\n",
        "    layers.BatchNormalization(),\n",
        "\n",
        "    # Third ConvLSTM2D layer with batch normalization\n",
        "    layers.ConvLSTM2D(filters=64,\n",
        "      kernel_size=(3, 3),\n",
        "      padding=\"same\",\n",
        "      return_sequences=True,\n",
        "      activation=\"relu\",\n",
        "    ),\n",
        "    layers.BatchNormalization(),\n",
        "\n",
        "    # Fourth ConvLSTM2D layer\n",
        "    layers.ConvLSTM2D(filters=64,\n",
        "      kernel_size=(1, 1),\n",
        "      padding=\"same\",\n",
        "      return_sequences=True,\n",
        "      activation=\"relu\",\n",
        "    ),\n",
        "\n",
        "    # Conv3D layer for spatiotemporal outputs\n",
        "    layers.Conv3D(\n",
        "      filters=1,\n",
        "      kernel_size=(3, 3, 3),\n",
        "      activation=\"sigmoid\",\n",
        "      padding=\"same\"\n",
        "    )\n",
        "])"
      ],
      "metadata": {
        "id": "5DBzz3tzGbeY"
      },
      "execution_count": null,
      "outputs": []
    },
    {
      "cell_type": "markdown",
      "source": [
        "- Another model that I have tried is the following in which I have obtained MSE=0.0095 and a good prediction:"
      ],
      "metadata": {
        "id": "gnS1MZuYtJLN"
      }
    },
    {
      "cell_type": "code",
      "source": [
        "# Define the input shape\n",
        "input_shape = (None, 64, 64, 1)\n",
        "\n",
        "# Input layer\n",
        "inputs = layers.Input(shape=input_shape)\n",
        "\n",
        "# First ConvLSTM2D layer with batch normalization\n",
        "x = layers.ConvLSTM2D(\n",
        "    filters=64,\n",
        "    kernel_size=(9, 9),\n",
        "    padding=\"same\",\n",
        "    return_sequences=True,\n",
        "    activation=\"relu\"\n",
        ")(inputs)\n",
        "x = layers.BatchNormalization()(x)\n",
        "\n",
        "# Second ConvLSTM2D layer with batch normalization\n",
        "x = layers.ConvLSTM2D(\n",
        "    filters=64,\n",
        "    kernel_size=(5, 5),\n",
        "    padding=\"same\",\n",
        "    return_sequences=True,\n",
        "    activation=\"relu\"\n",
        ")(x)\n",
        "x = layers.BatchNormalization()(x)\n",
        "\n",
        "# Third ConvLSTM2D layer with batch normalization\n",
        "x = layers.ConvLSTM2D(\n",
        "    filters=64,\n",
        "    kernel_size=(3, 3),\n",
        "    padding=\"same\",\n",
        "    return_sequences=True,\n",
        "    activation=\"relu\"\n",
        ")(x)\n",
        "x = layers.BatchNormalization()(x)\n",
        "\n",
        "# Fourth ConvLSTM2D layer with batch normalization\n",
        "\n",
        "x = layers.ConvLSTM2D(\n",
        "    filters=64,\n",
        "    kernel_size=(1, 1),\n",
        "    padding=\"same\",\n",
        "    return_sequences=True,\n",
        "    activation=\"relu\"\n",
        ")(x)\n",
        "\n",
        "# Conv3D layer for spatiotemporal outputs\n",
        "x = layers.Conv3D(\n",
        "    filters=1,\n",
        "    kernel_size=(3, 3, 3),\n",
        "    activation=\"sigmoid\",\n",
        "    padding=\"same\"\n",
        ")(x)\n",
        "\n",
        "# Lambda layer to select the last frame of each sequence\n",
        "x = layers.Lambda(lambda x: x[:, -1, :, :, :])(x)\n",
        "\n",
        "# Reshape layer to adjust the shape of the tensor\n",
        "output = layers.Reshape((1, 64, 64, 1))(x)\n",
        "\n",
        "# Create the model\n",
        "model2 = keras.models.Model(inputs=inputs, outputs=output)"
      ],
      "metadata": {
        "id": "i7QVHLpmtJLN"
      },
      "execution_count": null,
      "outputs": []
    },
    {
      "cell_type": "markdown",
      "source": [
        "- I have tried also a different approach with a stack of Conv2D and MaxPooling layers, but I have obtained a worst result:"
      ],
      "metadata": {
        "id": "tsREW1X7Gndw"
      }
    },
    {
      "cell_type": "code",
      "source": [
        "model3 = keras.Sequential([\n",
        "    layers.Conv2D(32, (3, 3), activation='relu', padding='same', input_shape=(64, 64, 3)),\n",
        "    layers.MaxPooling2D((2, 2), padding='same'),\n",
        "    layers.Conv2D(64, (3, 3), activation='relu', padding='same'),\n",
        "    layers.MaxPooling2D((2, 2), padding='same'),\n",
        "    layers.Conv2D(128, (3, 3), activation='relu', padding='same'),\n",
        "    layers.MaxPooling2D((2, 2), padding='same'),\n",
        "    layers.Conv2D(64, (3, 3), activation='relu', padding='same'),\n",
        "    layers.UpSampling2D((2, 2)),\n",
        "    layers.Conv2D(32, (3, 3), activation='relu', padding='same'),\n",
        "    layers.UpSampling2D((2, 2)),\n",
        "    layers.Conv2D(1, (3, 3), activation='sigmoid', padding='same')\n",
        "])"
      ],
      "metadata": {
        "id": "5nyZlrFxc3fa"
      },
      "execution_count": null,
      "outputs": []
    },
    {
      "cell_type": "markdown",
      "source": [
        "- Another model that I have tried is the following (I am attaching only the modified part of the code, the fit function remained unchanged. I have also tried this model in a non sequetial way (the code is similar to the following one)) in which I have increased the number of filters for the ConvLSTM2D layers and added a fourth ConvLSTM2D layer with 256 filters because, generally, increasing the number of filters can help the model capture more complex representations of the data.\n",
        "I have used a smaller kernel size (3x3) for the subsequent ConvLSTM2D layers. This can allow the model to consider finer details in the input data.\n",
        "> The obtained value of mean squared error is almost identical to the 3 ConvLSTM2D model (with 5x5,3x3,1x1 layers), the only difference is that this model need higher time to be computed, since it work with Total params: 6,030,849 instead of Total params: 746,689 given by the 3 ConvLSTM2D model."
      ],
      "metadata": {
        "id": "DiVbSwQcc1hB"
      }
    },
    {
      "cell_type": "code",
      "source": [
        "model4 = keras.Sequential([\n",
        "    layers.ConvLSTM2D(\n",
        "        filters=64,\n",
        "        kernel_size=(5, 5),\n",
        "        padding=\"same\",\n",
        "        return_sequences=True,\n",
        "        activation=\"relu\",\n",
        "        input_shape=(None, 64, 64, 1)\n",
        "    ),\n",
        "    layers.BatchNormalization(),\n",
        "\n",
        "    layers.ConvLSTM2D(\n",
        "        filters=128,\n",
        "        kernel_size=(3, 3),\n",
        "        padding=\"same\",\n",
        "        return_sequences=True,\n",
        "        activation=\"relu\"\n",
        "    ),\n",
        "    layers.BatchNormalization(),\n",
        "\n",
        "    layers.ConvLSTM2D(\n",
        "        filters=128,\n",
        "        kernel_size=(3, 3),\n",
        "        padding=\"same\",\n",
        "        return_sequences=True,\n",
        "        activation=\"relu\"\n",
        "    ),\n",
        "    layers.BatchNormalization(),\n",
        "\n",
        "    layers.ConvLSTM2D(\n",
        "        filters=256,\n",
        "        kernel_size=(3, 3),\n",
        "        padding=\"same\",\n",
        "        return_sequences=True,\n",
        "        activation=\"relu\"\n",
        "    ),\n",
        "    layers.BatchNormalization(),\n",
        "\n",
        "    layers.Conv3D(\n",
        "        filters=1,\n",
        "        kernel_size=(3, 3, 3),\n",
        "        activation=\"sigmoid\",\n",
        "        padding=\"same\"\n",
        "    )\n",
        "])"
      ],
      "metadata": {
        "id": "qZagCXUSRt7t"
      },
      "execution_count": null,
      "outputs": []
    }
  ]
}